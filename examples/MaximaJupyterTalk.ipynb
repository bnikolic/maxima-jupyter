{
 "cells": [
  {
   "cell_type": "markdown",
   "metadata": {},
   "source": [
    "### Jupyter"
   ]
  },
  {
   "cell_type": "markdown",
   "metadata": {},
   "source": [
    "+ Language-independent part of IPython\n",
    "+ Provides user interfaces (console, notebook)\n",
    "  + browser is UI for notebook server\n",
    "  + convenient cell editing (markdown / code) and evaluation\n",
    "  + notebook provides checkpoint functions in addition to create/save/load\n",
    "  + manage kernel (stop / restart / reconnect)\n",
    "+ Provides document generators (nbconvert)\n",
    "  + HTML, PDF, markdown, code-only, reStructuredText, LaTeX"
   ]
  },
  {
   "cell_type": "markdown",
   "metadata": {},
   "source": [
    "### Maxima"
   ]
  },
  {
   "cell_type": "markdown",
   "metadata": {},
   "source": [
    "+ Computer algebra == formal (ignoring content) manipulation of expressions\n",
    "+ Maxima covers undergraduate math, more or less\n",
    "+ Started in 1968 as part of Project MAC (\"machine-aided cognition\")\n",
    "+ Written in Lisp, now open source, active community\n",
    "+ Standard UI is ASCII-art console (useful, not pretty)\n",
    "+ I'd like to use Jupyter as a UI to compose math + text documents"
   ]
  },
  {
   "cell_type": "markdown",
   "metadata": {},
   "source": [
    "### Jupyter architecture"
   ]
  },
  {
   "cell_type": "markdown",
   "metadata": {},
   "source": [
    "+ Client (front end) separated from kernel (back end)\n",
    "+ Client and kernel talk through sockets provided by ZeroMQ\n"
   ]
  },
  {
   "cell_type": "markdown",
   "metadata": {},
   "source": [
    "### Jupyter architecture diagram"
   ]
  },
  {
   "cell_type": "markdown",
   "metadata": {},
   "source": [
    "![jupyter architecture diagram](http://jupyter-client.readthedocs.org/en/latest/_images/frontend-kernel.png \"Jupyter architecture diagram\")"
   ]
  },
  {
   "cell_type": "markdown",
   "metadata": {},
   "source": [
    "### Messages"
   ]
  },
  {
   "cell_type": "markdown",
   "metadata": {},
   "source": [
    "+ Evaluation:\n",
    "  + Client reads user input, sends string to kernel, e.g.: `\"diff(exp(a*x), x)\"`\n",
    "  + Kernel parses input, calls Maxima function to evaluate, returns result in two forms:\n",
    "    + as the printed form of a Maxima expression\n",
    "    + as LaTeX\n",
    "  + Client chooses an appropriate form to display\n",
    "+ Plot output:\n",
    "  + Same as evaluation, but result is returned as SVG\n",
    "+ Maxima-initiated questions (`asksign`):\n",
    "  + Maxima wants to ask user about the sign of some expression\n",
    "  + Kernel sends input prompt to client\n",
    "  + Client prints prompt, reads user input, sends string to kernel\n",
    "  + Kernel passes user input to Maxima\n",
    "  + Maxima completes whatever it was working on before"
   ]
  },
  {
   "cell_type": "markdown",
   "metadata": {},
   "source": [
    "### Examples"
   ]
  },
  {
   "cell_type": "markdown",
   "metadata": {},
   "source": [
    "#### Formulate an expression"
   ]
  },
  {
   "cell_type": "code",
   "execution_count": 1,
   "metadata": {},
   "outputs": [
    {
     "data": {
      "text/latex": [
       "\\[\\tag{${\\it \\%o}_{1}$}\\frac{d^2}{d\\,x^2}\\,\\left(\\frac{1}{\\sqrt{1-a\\,x^2}+1}\\right)\\]"
      ],
      "text/plain": [
       "                            2\n",
       "                           d            1\n",
       "(%o1)                      --- (------------------)\n",
       "                             2              2\n",
       "                           dx   sqrt(1 - a x ) + 1"
      ],
      "text/x-maxima": [
       "'diff(1/(sqrt(1-a*x^2)+1),x,2)"
      ]
     },
     "execution_count": 1,
     "metadata": {},
     "output_type": "execute_result"
    }
   ],
   "source": [
    "foo : 'diff (1/(1 + sqrt(1 - a*x^2)), x, 2);"
   ]
  },
  {
   "cell_type": "markdown",
   "metadata": {},
   "source": [
    "#### Evaluate"
   ]
  },
  {
   "cell_type": "code",
   "execution_count": 2,
   "metadata": {},
   "outputs": [
    {
     "data": {
      "text/latex": [
       "\\[\\tag{${\\it \\%o}_{2}$}\\frac{a}{\\sqrt{1-a\\,x^2}\\,\\left(\\sqrt{1-a\\,x^2}+1\\right)^2}+\\frac{a^2\\,x^2}{\\left(1-a\\,x^2\\right)^{\\frac{3}{2}}\\,\\left(\\sqrt{1-a\\,x^2}+1\\right)^2}+\\frac{2\\,a^2\\,x^2}{\\left(1-a\\,x^2\\right)\\,\\left(\\sqrt{1-a\\,x^2}+1\\right)^3}\\]"
      ],
      "text/plain": [
       "                       a\n",
       "(%o2) ------------------------------------\n",
       "                  2               2      2\n",
       "      sqrt(1 - a x ) (sqrt(1 - a x ) + 1)\n",
       "                         2  2                                 2  2\n",
       "                        a  x                               2 a  x\n",
       "       + ----------------------------------- + --------------------------------\n",
       "                 2 3/2              2      2           2               2      3\n",
       "         (1 - a x )    (sqrt(1 - a x ) + 1)    (1 - a x ) (sqrt(1 - a x ) + 1)"
      ],
      "text/x-maxima": [
       "a/(sqrt(1-a*x^2)*(sqrt(1-a*x^2)+1)^2)+(a^2*x^2)\n",
       "                                      /((1-a*x^2)^(3/2)*(sqrt(1-a*x^2)+1)^2)\n",
       "                                     +(2*a^2*x^2)\n",
       "                                      /((1-a*x^2)*(sqrt(1-a*x^2)+1)^3)"
      ]
     },
     "execution_count": 2,
     "metadata": {},
     "output_type": "execute_result"
    }
   ],
   "source": [
    "bar : ev (foo, nouns);"
   ]
  },
  {
   "cell_type": "markdown",
   "metadata": {},
   "source": [
    "#### asksign prompt"
   ]
  },
  {
   "cell_type": "code",
   "execution_count": 3,
   "metadata": {},
   "outputs": [
    {
     "name": "stdin",
     "output_type": "stream",
     "text": [
      "Is k equal to - 1?\n",
      " y;\n"
     ]
    },
    {
     "name": "stdout",
     "output_type": "stream",
     "text": [
      "\n"
     ]
    },
    {
     "data": {
      "text/latex": [
       "\\[\\tag{${\\it \\%o}_{3}$}\\log x\\]"
      ],
      "text/plain": [
       "(%o3)                               log(x)"
      ],
      "text/x-maxima": [
       "log(x)"
      ]
     },
     "execution_count": 3,
     "metadata": {},
     "output_type": "execute_result"
    }
   ],
   "source": [
    "integrate (x^k, x);"
   ]
  },
  {
   "cell_type": "code",
   "execution_count": 4,
   "metadata": {},
   "outputs": [
    {
     "name": "stdin",
     "output_type": "stream",
     "text": [
      "Is k equal to - 1?\n",
      " n;\n"
     ]
    },
    {
     "name": "stdout",
     "output_type": "stream",
     "text": [
      "\n"
     ]
    },
    {
     "data": {
      "text/latex": [
       "\\[\\tag{${\\it \\%o}_{4}$}\\frac{x^{k+1}}{k+1}\\]"
      ],
      "text/plain": [
       "                                     k + 1\n",
       "                                    x\n",
       "(%o4)                               ------\n",
       "                                    k + 1"
      ],
      "text/x-maxima": [
       "x^(k+1)/(k+1)"
      ]
     },
     "execution_count": 4,
     "metadata": {},
     "output_type": "execute_result"
    }
   ],
   "source": [
    "integrate (x^k, x);"
   ]
  },
  {
   "cell_type": "markdown",
   "metadata": {},
   "source": [
    "#### Plot output"
   ]
  },
  {
   "cell_type": "code",
   "execution_count": 5,
   "metadata": {},
   "outputs": [
    {
     "name": "stdout",
     "output_type": "stream",
     "text": [
      "plot2d: expression evaluates to non-numeric value somewhere in plotting range.\n",
      "plot2d: some values were clipped.\n"
     ]
    },
    {
     "data": {
      "image/svg+xml": [
       "<?xml version=\"1.0\" encoding=\"utf-8\"  standalone=\"no\"?>\n",
       "<svg \n",
       " width=\"600\" height=\"480\"\n",
       " viewBox=\"0 0 600 480\"\n",
       " xmlns=\"http://www.w3.org/2000/svg\"\n",
       " xmlns:xlink=\"http://www.w3.org/1999/xlink\"\n",
       ">\n",
       "\n",
       "<title>Gnuplot</title>\n",
       "<desc>Produced by GNUPLOT 5.4 patchlevel 1 </desc>\n",
       "\n",
       "<g id=\"gnuplot_canvas\">\n",
       "\n",
       "<rect x=\"0\" y=\"0\" width=\"600\" height=\"480\" fill=\"none\"/>\n",
       "<defs>\n",
       "\n",
       "\t<circle id='gpDot' r='0.5' stroke-width='0.5' stroke='currentColor'/>\n",
       "\t<path id='gpPt0' stroke-width='0.190' stroke='currentColor' d='M-1,0 h2 M0,-1 v2'/>\n",
       "\t<path id='gpPt1' stroke-width='0.190' stroke='currentColor' d='M-1,-1 L1,1 M1,-1 L-1,1'/>\n",
       "\t<path id='gpPt2' stroke-width='0.190' stroke='currentColor' d='M-1,0 L1,0 M0,-1 L0,1 M-1,-1 L1,1 M-1,1 L1,-1'/>\n",
       "\t<rect id='gpPt3' stroke-width='0.190' stroke='currentColor' x='-1' y='-1' width='2' height='2'/>\n",
       "\t<rect id='gpPt4' stroke-width='0.190' stroke='currentColor' fill='currentColor' x='-1' y='-1' width='2' height='2'/>\n",
       "\t<circle id='gpPt5' stroke-width='0.190' stroke='currentColor' cx='0' cy='0' r='1'/>\n",
       "\t<use xlink:href='#gpPt5' id='gpPt6' fill='currentColor' stroke='none'/>\n",
       "\t<path id='gpPt7' stroke-width='0.190' stroke='currentColor' d='M0,-1.33 L-1.33,0.67 L1.33,0.67 z'/>\n",
       "\t<use xlink:href='#gpPt7' id='gpPt8' fill='currentColor' stroke='none'/>\n",
       "\t<use xlink:href='#gpPt7' id='gpPt9' stroke='currentColor' transform='rotate(180)'/>\n",
       "\t<use xlink:href='#gpPt9' id='gpPt10' fill='currentColor' stroke='none'/>\n",
       "\t<use xlink:href='#gpPt3' id='gpPt11' stroke='currentColor' transform='rotate(45)'/>\n",
       "\t<use xlink:href='#gpPt11' id='gpPt12' fill='currentColor' stroke='none'/>\n",
       "\t<path id='gpPt13' stroke-width='0.190' stroke='currentColor' d='M0,1.330 L1.265,0.411 L0.782,-1.067 L-0.782,-1.076 L-1.265,0.411 z'/>\n",
       "\t<use xlink:href='#gpPt13' id='gpPt14' fill='currentColor' stroke='none'/>\n",
       "\t<filter id='textbox' filterUnits='objectBoundingBox' x='0' y='0' height='1' width='1'>\n",
       "\t  <feFlood flood-color='white' flood-opacity='1' result='bgnd'/>\n",
       "\t  <feComposite in='SourceGraphic' in2='bgnd' operator='atop'/>\n",
       "\t</filter>\n",
       "\t<filter id='greybox' filterUnits='objectBoundingBox' x='0' y='0' height='1' width='1'>\n",
       "\t  <feFlood flood-color='lightgrey' flood-opacity='1' result='grey'/>\n",
       "\t  <feComposite in='SourceGraphic' in2='grey' operator='atop'/>\n",
       "\t</filter>\n",
       "</defs>\n",
       "<g fill=\"none\" color=\"white\" stroke=\"currentColor\" stroke-width=\"1.00\" stroke-linecap=\"butt\" stroke-linejoin=\"miter\">\n",
       "</g>\n",
       "<g fill=\"none\" color=\"gray\" stroke=\"currentColor\" stroke-width=\"1.00\" stroke-linecap=\"butt\" stroke-linejoin=\"miter\">\n",
       "\t<path stroke='black' stroke-dasharray='2,4'  d='M53.84,216.90 L570.62,216.90  '/></g>\n",
       "<g fill=\"none\" color=\"gray\" stroke=\"currentColor\" stroke-width=\"1.00\" stroke-linecap=\"butt\" stroke-linejoin=\"miter\">\n",
       "\t<path stroke='black' stroke-dasharray='2,4'  d='M312.23,410.70 L312.23,23.11  '/></g>\n",
       "<g fill=\"none\" color=\"black\" stroke=\"currentColor\" stroke-width=\"1.00\" stroke-linecap=\"butt\" stroke-linejoin=\"miter\">\n",
       "\t<path stroke='black'  d='M53.84,23.11 L53.84,410.70 L570.62,410.70 L570.62,23.11 L53.84,23.11 Z  '/></g>\n",
       "<g fill=\"none\" color=\"black\" stroke=\"currentColor\" stroke-width=\"1.00\" stroke-linecap=\"butt\" stroke-linejoin=\"miter\">\n",
       "\t<g transform=\"translate(312.23,467.75)\" stroke=\"none\" fill=\"black\" font-family=\"Arial\" font-size=\"14.00\"  text-anchor=\"middle\">\n",
       "\t\t<text>x</text>\n",
       "\t</g>\n",
       "</g>\n",
       "<g fill=\"none\" color=\"black\" stroke=\"currentColor\" stroke-width=\"1.00\" stroke-linecap=\"butt\" stroke-linejoin=\"miter\">\n",
       "</g>\n",
       "\t<g id=\"gnuplot_plot_1\" ><title>gnuplot_plot_1</title>\n",
       "<g fill=\"none\" color=\"black\" stroke=\"currentColor\" stroke-width=\"1.00\" stroke-linecap=\"butt\" stroke-linejoin=\"miter\">\n",
       "\t<path stroke='rgb(  0,   0, 255)'  d='M195.01,24.66 L195.29,31.89 L195.56,38.70 L195.84,45.13 L196.12,51.20 L196.40,56.94 L196.68,62.38 L196.96,67.54\n",
       "\t\tL197.24,72.43 L197.51,77.07 L197.79,81.49 L198.07,85.69 L198.35,89.70 L198.63,93.51 L198.91,97.15 L199.18,100.63\n",
       "\t\tL199.46,103.95 L199.74,107.13 L200.02,110.17 L200.30,113.08 L200.58,115.87 L200.86,118.55 L201.13,121.11 L201.41,123.58\n",
       "\t\tL201.69,125.94 L201.97,128.22 L202.25,130.41 L202.53,132.51 L202.80,134.54 L203.08,136.49 L203.36,138.37 L203.64,140.19\n",
       "\t\tL203.92,141.94 L204.20,143.63 L204.47,145.26 L204.75,146.83 L205.03,148.36 L205.31,149.83 L205.59,151.25 L205.87,152.63\n",
       "\t\tL206.15,153.96 L206.42,155.25 L206.70,156.50 L206.98,157.71 L207.26,158.89 L207.54,160.02 L207.82,161.13 L208.09,162.20\n",
       "\t\tL208.37,163.24 L208.65,164.25 L208.93,165.23 L209.21,166.18 L209.49,167.11 L209.77,168.01 L210.04,168.88 L210.32,169.73\n",
       "\t\tL210.60,170.56 L210.88,171.37 L211.16,172.15 L211.44,172.91 L211.71,173.66 L211.99,174.38 L212.27,175.08 L212.55,175.77\n",
       "\t\tL212.83,176.44 L213.11,177.09 L213.38,177.73 L213.66,178.35 L213.94,178.96 L214.22,179.55 L214.78,180.69 L215.33,181.78\n",
       "\t\tL215.89,182.82 L216.45,183.81 L217.00,184.75 L217.56,185.66 L218.12,186.52 L218.68,187.35 L219.23,188.15 L219.79,188.91\n",
       "\t\tL220.35,189.64 L220.90,190.34 L221.46,191.01 L222.02,191.66 L222.57,192.28 L223.13,192.88 L223.69,193.45 L224.24,194.01\n",
       "\t\tL224.80,194.54 L225.36,195.05 L225.91,195.55 L226.47,196.03 L227.03,196.49 L227.59,196.93 L228.14,197.36 L228.70,197.78\n",
       "\t\tL229.26,198.18 L229.81,198.57 L230.37,198.94 L230.93,199.30 L231.48,199.66 L232.04,200.00 L232.60,200.32 L233.15,200.64\n",
       "\t\tL233.71,200.95 L234.27,201.25 L234.82,201.54 L235.38,201.82 L235.94,202.10 L236.50,202.36 L237.05,202.62 L237.61,202.87\n",
       "\t\tL238.17,203.11 L238.72,203.35 L239.28,203.58 L239.84,203.80 L240.39,204.01 L240.95,204.22 L241.51,204.43 L242.06,204.63\n",
       "\t\tL242.62,204.82 L243.18,205.01 L243.73,205.19 L244.29,205.37 L244.85,205.54 L245.41,205.71 L245.96,205.88 L246.52,206.04\n",
       "\t\tL247.08,206.20 L247.63,206.35 L248.19,206.50 L248.75,206.64 L249.30,206.78 L249.86,206.92 L250.42,207.05 L250.97,207.18\n",
       "\t\tL251.53,207.31 L252.09,207.44 L252.64,207.56 L253.20,207.68 L253.76,207.79 L254.32,207.91 L254.87,208.02 L255.43,208.12\n",
       "\t\tL255.99,208.23 L256.54,208.33 L257.10,208.43 L257.66,208.53 L258.21,208.63 L258.77,208.72 L259.33,208.81 L259.88,208.90\n",
       "\t\tL260.44,208.99 L261.00,209.07 L261.55,209.15 L262.11,209.24 L262.67,209.31 L263.23,209.39 L263.78,209.47 L264.34,209.54\n",
       "\t\tL264.90,209.61 L265.45,209.69 L266.01,209.75 L266.57,209.82 L267.12,209.89 L267.68,209.95 L268.24,210.02 L268.79,210.08\n",
       "\t\tL269.35,210.14 L269.91,210.20 L270.46,210.25 L271.02,210.31 L271.58,210.37 L272.14,210.42 L272.69,210.47 L273.25,210.52\n",
       "\t\tL273.81,210.57 L274.36,210.62 L274.92,210.67 L275.48,210.72 L276.03,210.76 L276.59,210.81 L277.15,210.85 L277.70,210.89\n",
       "\t\tL278.26,210.94 L278.82,210.98 L279.37,211.02 L279.93,211.06 L280.49,211.09 L281.05,211.13 L281.60,211.17 L282.16,211.20\n",
       "\t\tL282.72,211.24 L283.27,211.27 L283.83,211.30 L284.39,211.33 L284.94,211.36 L285.50,211.39 L286.06,211.42 L286.61,211.45\n",
       "\t\tL287.17,211.48 L287.73,211.51 L288.28,211.53 L288.84,211.56 L289.40,211.58 L289.96,211.61 L290.51,211.63 L291.07,211.65\n",
       "\t\tL291.63,211.68 L292.18,211.70 L292.74,211.72 L293.30,211.74 L293.85,211.76 L294.41,211.78 L295.52,211.81 L296.64,211.84\n",
       "\t\tL297.75,211.87 L298.87,211.90 L299.98,211.93 L301.09,211.95 L302.21,211.97 L303.32,211.99 L304.43,212.01 L305.55,212.02\n",
       "\t\tL306.66,212.03 L307.78,212.04 L308.89,212.05 L310.00,212.06 L311.12,212.06 L312.23,212.06 L312.79,212.06 L313.34,212.06\n",
       "\t\tL313.90,212.06 L314.46,212.06 L315.01,212.05 L315.57,212.05 L316.13,212.05 L316.68,212.04 L317.80,212.03 L318.91,212.02\n",
       "\t\tL320.03,212.01 L321.14,211.99 L322.25,211.97 L323.37,211.95 L324.48,211.93 L325.60,211.90 L326.71,211.87 L327.82,211.84\n",
       "\t\tL328.94,211.81 L330.05,211.78 L331.16,211.74 L332.28,211.70 L333.39,211.65 L334.51,211.61 L335.62,211.56 L336.73,211.51\n",
       "\t\tL337.85,211.45 L338.96,211.39 L340.07,211.33 L341.19,211.27 L342.30,211.20 L343.42,211.13 L344.53,211.06 L345.64,210.98\n",
       "\t\tL346.76,210.89 L347.87,210.81 L348.98,210.72 L350.10,210.62 L351.21,210.52 L352.33,210.42 L353.44,210.31 L354.55,210.20\n",
       "\t\tL355.67,210.08 L356.78,209.95 L357.34,209.89 L357.89,209.82 L358.45,209.75 L359.01,209.69 L359.56,209.61 L360.12,209.54\n",
       "\t\tL360.68,209.47 L361.24,209.39 L361.79,209.31 L362.35,209.24 L362.91,209.15 L363.46,209.07 L364.02,208.99 L364.58,208.90\n",
       "\t\tL365.13,208.81 L365.69,208.72 L366.25,208.63 L366.80,208.53 L367.36,208.43 L367.92,208.33 L368.47,208.23 L369.03,208.12\n",
       "\t\tL369.59,208.02 L370.15,207.91 L370.70,207.79 L371.26,207.68 L371.82,207.56 L372.37,207.44 L372.93,207.31 L373.49,207.18\n",
       "\t\tL374.04,207.05 L374.60,206.92 L375.16,206.78 L375.71,206.64 L376.27,206.50 L376.83,206.35 L377.38,206.20 L377.94,206.04\n",
       "\t\tL378.50,205.88 L379.06,205.71 L379.61,205.54 L380.17,205.37 L380.73,205.19 L381.28,205.01 L381.84,204.82 L382.40,204.63\n",
       "\t\tL382.95,204.43 L383.51,204.22 L384.07,204.01 L384.62,203.80 L385.18,203.58 L385.74,203.35 L386.29,203.11 L386.85,202.87\n",
       "\t\tL387.41,202.62 L387.97,202.36 L388.52,202.10 L389.08,201.82 L389.64,201.54 L390.19,201.25 L390.75,200.95 L391.31,200.64\n",
       "\t\tL391.86,200.32 L392.42,200.00 L392.98,199.66 L393.53,199.30 L394.09,198.94 L394.65,198.57 L395.20,198.18 L395.76,197.78\n",
       "\t\tL396.32,197.36 L396.88,196.93 L397.43,196.49 L397.99,196.03 L398.55,195.55 L399.10,195.05 L399.66,194.54 L400.22,194.01\n",
       "\t\tL400.77,193.45 L401.33,192.88 L401.89,192.28 L402.44,191.66 L403.00,191.01 L403.56,190.34 L404.11,189.64 L404.67,188.91\n",
       "\t\tL405.23,188.15 L405.79,187.35 L406.34,186.52 L406.90,185.66 L407.46,184.75 L408.01,183.81 L408.57,182.82 L409.13,181.78\n",
       "\t\tL409.68,180.69 L410.24,179.55 L410.80,178.35 L411.35,177.09 L411.91,175.77 L412.47,174.38 L413.02,172.91 L413.58,171.37\n",
       "\t\tL414.14,169.73 L414.70,168.01 L414.97,167.11 L415.25,166.18 L415.53,165.23 L415.81,164.25 L416.09,163.24 L416.37,162.20\n",
       "\t\tL416.64,161.13 L416.92,160.02 L417.20,158.89 L417.48,157.71 L417.76,156.50 L418.04,155.25 L418.31,153.96 L418.59,152.63\n",
       "\t\tL418.87,151.25 L419.15,149.83 L419.43,148.36 L419.71,146.83 L419.99,145.26 L420.26,143.63 L420.54,141.94 L420.82,140.19\n",
       "\t\tL421.10,138.37 L421.38,136.49 L421.66,134.54 L421.93,132.51 L422.21,130.41 L422.49,128.22 L422.77,125.94 L423.05,123.58\n",
       "\t\tL423.33,121.11 L423.61,118.55 L423.88,115.87 L424.16,113.08 L424.44,110.17 L424.72,107.13 L425.00,103.95 L425.28,100.63\n",
       "\t\tL425.55,97.15 L425.83,93.51 L426.11,89.70 L426.39,85.69 L426.67,81.49 L426.95,77.07 L427.22,72.43 L427.50,67.54\n",
       "\t\tL427.78,62.38 L428.06,56.94 L428.34,51.20 L428.62,45.13 L428.90,38.70 L429.17,31.89 L429.45,24.66  '/></g>\n",
       "\t</g>\n",
       "<g fill=\"none\" color=\"black\" stroke=\"currentColor\" stroke-width=\"1.00\" stroke-linecap=\"butt\" stroke-linejoin=\"miter\">\n",
       "\t<path stroke='black'  d='M53.84,410.70 L64.34,410.70 M570.62,410.70 L560.12,410.70  '/>\t<g transform=\"translate(44.05,415.25)\" stroke=\"none\" fill=\"black\" font-family=\"Arial\" font-size=\"14.00\"  text-anchor=\"end\">\n",
       "\t\t<text><tspan font-family=\"Arial\" >-10</tspan></text>\n",
       "\t</g>\n",
       "</g>\n",
       "<g fill=\"none\" color=\"black\" stroke=\"currentColor\" stroke-width=\"1.00\" stroke-linecap=\"butt\" stroke-linejoin=\"miter\">\n",
       "\t<path stroke='black'  d='M53.84,313.80 L64.34,313.80 M570.62,313.80 L560.12,313.80  '/>\t<g transform=\"translate(44.05,318.35)\" stroke=\"none\" fill=\"black\" font-family=\"Arial\" font-size=\"14.00\"  text-anchor=\"end\">\n",
       "\t\t<text><tspan font-family=\"Arial\" >-5</tspan></text>\n",
       "\t</g>\n",
       "</g>\n",
       "<g fill=\"none\" color=\"black\" stroke=\"currentColor\" stroke-width=\"1.00\" stroke-linecap=\"butt\" stroke-linejoin=\"miter\">\n",
       "\t<path stroke='black'  d='M53.84,216.90 L64.34,216.90 M570.62,216.90 L560.12,216.90  '/>\t<g transform=\"translate(44.05,221.45)\" stroke=\"none\" fill=\"black\" font-family=\"Arial\" font-size=\"14.00\"  text-anchor=\"end\">\n",
       "\t\t<text><tspan font-family=\"Arial\" > 0</tspan></text>\n",
       "\t</g>\n",
       "</g>\n",
       "<g fill=\"none\" color=\"black\" stroke=\"currentColor\" stroke-width=\"1.00\" stroke-linecap=\"butt\" stroke-linejoin=\"miter\">\n",
       "\t<path stroke='black'  d='M53.84,120.01 L64.34,120.01 M570.62,120.01 L560.12,120.01  '/>\t<g transform=\"translate(44.05,124.56)\" stroke=\"none\" fill=\"black\" font-family=\"Arial\" font-size=\"14.00\"  text-anchor=\"end\">\n",
       "\t\t<text><tspan font-family=\"Arial\" > 5</tspan></text>\n",
       "\t</g>\n",
       "</g>\n",
       "<g fill=\"none\" color=\"black\" stroke=\"currentColor\" stroke-width=\"1.00\" stroke-linecap=\"butt\" stroke-linejoin=\"miter\">\n",
       "\t<path stroke='black'  d='M53.84,23.11 L64.34,23.11 M570.62,23.11 L560.12,23.11  '/>\t<g transform=\"translate(44.05,27.66)\" stroke=\"none\" fill=\"black\" font-family=\"Arial\" font-size=\"14.00\"  text-anchor=\"end\">\n",
       "\t\t<text><tspan font-family=\"Arial\" > 10</tspan></text>\n",
       "\t</g>\n",
       "</g>\n",
       "<g fill=\"none\" color=\"black\" stroke=\"currentColor\" stroke-width=\"1.00\" stroke-linecap=\"butt\" stroke-linejoin=\"miter\">\n",
       "\t<path stroke='black'  d='M53.84,410.70 L53.84,400.20 M53.84,23.11 L53.84,33.61  '/>\t<g transform=\"translate(53.84,436.25)\" stroke=\"none\" fill=\"black\" font-family=\"Arial\" font-size=\"14.00\"  text-anchor=\"middle\">\n",
       "\t\t<text><tspan font-family=\"Arial\" >-2</tspan></text>\n",
       "\t</g>\n",
       "</g>\n",
       "<g fill=\"none\" color=\"black\" stroke=\"currentColor\" stroke-width=\"1.00\" stroke-linecap=\"butt\" stroke-linejoin=\"miter\">\n",
       "\t<path stroke='black'  d='M118.44,410.70 L118.44,400.20 M118.44,23.11 L118.44,33.61  '/>\t<g transform=\"translate(118.44,436.25)\" stroke=\"none\" fill=\"black\" font-family=\"Arial\" font-size=\"14.00\"  text-anchor=\"middle\">\n",
       "\t\t<text><tspan font-family=\"Arial\" >-1.5</tspan></text>\n",
       "\t</g>\n",
       "</g>\n",
       "<g fill=\"none\" color=\"black\" stroke=\"currentColor\" stroke-width=\"1.00\" stroke-linecap=\"butt\" stroke-linejoin=\"miter\">\n",
       "\t<path stroke='black'  d='M183.04,410.70 L183.04,400.20 M183.04,23.11 L183.04,33.61  '/>\t<g transform=\"translate(183.04,436.25)\" stroke=\"none\" fill=\"black\" font-family=\"Arial\" font-size=\"14.00\"  text-anchor=\"middle\">\n",
       "\t\t<text><tspan font-family=\"Arial\" >-1</tspan></text>\n",
       "\t</g>\n",
       "</g>\n",
       "<g fill=\"none\" color=\"black\" stroke=\"currentColor\" stroke-width=\"1.00\" stroke-linecap=\"butt\" stroke-linejoin=\"miter\">\n",
       "\t<path stroke='black'  d='M247.63,410.70 L247.63,400.20 M247.63,23.11 L247.63,33.61  '/>\t<g transform=\"translate(247.63,436.25)\" stroke=\"none\" fill=\"black\" font-family=\"Arial\" font-size=\"14.00\"  text-anchor=\"middle\">\n",
       "\t\t<text><tspan font-family=\"Arial\" >-0.5</tspan></text>\n",
       "\t</g>\n",
       "</g>\n",
       "<g fill=\"none\" color=\"black\" stroke=\"currentColor\" stroke-width=\"1.00\" stroke-linecap=\"butt\" stroke-linejoin=\"miter\">\n",
       "\t<path stroke='black'  d='M312.23,410.70 L312.23,400.20 M312.23,23.11 L312.23,33.61  '/>\t<g transform=\"translate(312.23,436.25)\" stroke=\"none\" fill=\"black\" font-family=\"Arial\" font-size=\"14.00\"  text-anchor=\"middle\">\n",
       "\t\t<text><tspan font-family=\"Arial\" > 0</tspan></text>\n",
       "\t</g>\n",
       "</g>\n",
       "<g fill=\"none\" color=\"black\" stroke=\"currentColor\" stroke-width=\"1.00\" stroke-linecap=\"butt\" stroke-linejoin=\"miter\">\n",
       "\t<path stroke='black'  d='M376.83,410.70 L376.83,400.20 M376.83,23.11 L376.83,33.61  '/>\t<g transform=\"translate(376.83,436.25)\" stroke=\"none\" fill=\"black\" font-family=\"Arial\" font-size=\"14.00\"  text-anchor=\"middle\">\n",
       "\t\t<text><tspan font-family=\"Arial\" > 0.5</tspan></text>\n",
       "\t</g>\n",
       "</g>\n",
       "<g fill=\"none\" color=\"black\" stroke=\"currentColor\" stroke-width=\"1.00\" stroke-linecap=\"butt\" stroke-linejoin=\"miter\">\n",
       "\t<path stroke='black'  d='M441.43,410.70 L441.43,400.20 M441.43,23.11 L441.43,33.61  '/>\t<g transform=\"translate(441.43,436.25)\" stroke=\"none\" fill=\"black\" font-family=\"Arial\" font-size=\"14.00\"  text-anchor=\"middle\">\n",
       "\t\t<text><tspan font-family=\"Arial\" > 1</tspan></text>\n",
       "\t</g>\n",
       "</g>\n",
       "<g fill=\"none\" color=\"black\" stroke=\"currentColor\" stroke-width=\"1.00\" stroke-linecap=\"butt\" stroke-linejoin=\"miter\">\n",
       "\t<path stroke='black'  d='M506.02,410.70 L506.02,400.20 M506.02,23.11 L506.02,33.61  '/>\t<g transform=\"translate(506.02,436.25)\" stroke=\"none\" fill=\"black\" font-family=\"Arial\" font-size=\"14.00\"  text-anchor=\"middle\">\n",
       "\t\t<text><tspan font-family=\"Arial\" > 1.5</tspan></text>\n",
       "\t</g>\n",
       "</g>\n",
       "<g fill=\"none\" color=\"black\" stroke=\"currentColor\" stroke-width=\"1.00\" stroke-linecap=\"butt\" stroke-linejoin=\"miter\">\n",
       "\t<path stroke='black'  d='M570.62,410.70 L570.62,400.20 M570.62,23.11 L570.62,33.61  '/>\t<g transform=\"translate(570.62,436.25)\" stroke=\"none\" fill=\"black\" font-family=\"Arial\" font-size=\"14.00\"  text-anchor=\"middle\">\n",
       "\t\t<text><tspan font-family=\"Arial\" > 2</tspan></text>\n",
       "\t</g>\n",
       "</g>\n",
       "<g fill=\"none\" color=\"black\" stroke=\"currentColor\" stroke-width=\"1.00\" stroke-linecap=\"butt\" stroke-linejoin=\"miter\">\n",
       "</g>\n",
       "<g fill=\"none\" color=\"gray\" stroke=\"currentColor\" stroke-width=\"1.00\" stroke-linecap=\"butt\" stroke-linejoin=\"miter\">\n",
       "\t<path stroke='black' stroke-dasharray='2,4'  d='M53.84,216.90 L570.62,216.90  '/></g>\n",
       "<g fill=\"none\" color=\"gray\" stroke=\"currentColor\" stroke-width=\"1.00\" stroke-linecap=\"butt\" stroke-linejoin=\"miter\">\n",
       "\t<path stroke='black' stroke-dasharray='2,4'  d='M312.23,410.70 L312.23,23.11  '/></g>\n",
       "<g fill=\"none\" color=\"gray\" stroke=\"black\" stroke-width=\"2.00\" stroke-linecap=\"butt\" stroke-linejoin=\"miter\">\n",
       "</g>\n",
       "<g fill=\"none\" color=\"black\" stroke=\"currentColor\" stroke-width=\"2.00\" stroke-linecap=\"butt\" stroke-linejoin=\"miter\">\n",
       "</g>\n",
       "<g fill=\"none\" color=\"black\" stroke=\"black\" stroke-width=\"1.00\" stroke-linecap=\"butt\" stroke-linejoin=\"miter\">\n",
       "</g>\n",
       "<g fill=\"none\" color=\"black\" stroke=\"currentColor\" stroke-width=\"1.00\" stroke-linecap=\"butt\" stroke-linejoin=\"miter\">\n",
       "\t<path stroke='black'  d='M53.84,23.11 L53.84,410.70 L570.62,410.70 L570.62,23.11 L53.84,23.11 Z  '/></g>\n",
       "<g fill=\"none\" color=\"black\" stroke=\"currentColor\" stroke-width=\"1.00\" stroke-linecap=\"butt\" stroke-linejoin=\"miter\">\n",
       "</g>\n",
       "</g>\n",
       "</svg>\n",
       "\n"
      ],
      "text/plain": [
       "/tmp/maxplot.svg"
      ]
     },
     "metadata": {},
     "output_type": "display_data"
    }
   ],
   "source": [
    "plot2d (subst (a = 1, bar), [x, -2, 2], [y, -10, 10], [svg_file, \"maxplot.svg\"])$"
   ]
  },
  {
   "cell_type": "markdown",
   "metadata": {},
   "source": [
    "### Minor features"
   ]
  },
  {
   "cell_type": "markdown",
   "metadata": {},
   "source": [
    "+ Code syntax highlighting\n",
    "  + In browser via CodeMirror\n",
    "  + In HTML output via Pygments\n",
    "  + Maxima-specific stuff is encapsulated in a function which only does some regex matching"
   ]
  },
  {
   "cell_type": "markdown",
   "metadata": {},
   "source": [
    "### Links"
   ]
  },
  {
   "cell_type": "markdown",
   "metadata": {},
   "source": [
    "+ Jupyter\n",
    "  + [Project home page](http://jupyter.org)\n",
    "  + [List of kernels in other languages](https://github.com/ipython/ipython/wiki/IPython-kernels-for-other-languages)\n",
    "  + [Jupyter client/kernel interface spec](http://jupyter-client.readthedocs.org/en/latest/index.html)\n",
    "+ Maxima\n",
    "  + [Project home page](http://maxima.sourceforge.net)\n",
    "+ Maxima-Jupyter\n",
    "  + [Project home page](https://github.com/robert-dodier/maxima-jupyter)\n",
    "  + [Example Maxima-Jupyter notebook](http://nbviewer.ipython.org/github/robert-dodier/maxima-jupyter/blob/master/MaximaJupyterExample.ipynb)\n",
    "+ About the author\n",
    "  + [Robert Dodier](http://linkedin.com/in/robertdodier)"
   ]
  }
 ],
 "metadata": {
  "kernelspec": {
   "display_name": "Maxima",
   "language": "maxima",
   "name": "maxima"
  },
  "language_info": {
   "codemirror_mode": "maxima",
   "file_extension": ".mac",
   "mimetype": "text/x-maxima",
   "name": "maxima",
   "pygments_lexer": "maxima",
   "version": "5.44.0"
  }
 },
 "nbformat": 4,
 "nbformat_minor": 4
}
