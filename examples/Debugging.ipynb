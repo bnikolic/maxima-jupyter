{
 "cells": [
  {
   "cell_type": "code",
   "execution_count": 2,
   "metadata": {},
   "outputs": [
    {
     "data": {
      "text/latex": [
       "\\[\\tag{${\\it \\%o}_{2}$}{\\it foo}\\left(y\\right):=\\mathbf{block}\\;\\left(\\left[ u:y^2 \\right]  , u:u+3 , u:u^2 , u\\right)\\]"
      ],
      "text/plain": [
       "                                      2                   2\n",
       "(%o2)           foo(y) := block([u : y ], u : u + 3, u : u , u)"
      ],
      "text/x-maxima": [
       "foo(y):=block([u:y^2],u:u+3,u:u^2,u)"
      ]
     },
     "execution_count": 2,
     "metadata": {},
     "output_type": "execute_result"
    },
    {
     "data": {
      "text/latex": [
       "\\[\\tag{${\\it \\%o}_{3}$}{\\it bar}\\left(x , y\\right):=\\mathbf{block}\\;\\left(\\left[  \\right]  , \\left(x:x+2 , y:y+2 , x:{\\it foo}\\left(y\\right) , x+y\\right)\\right)\\]"
      ],
      "text/plain": [
       "(%o3)  bar(x, y) := block([], (x : x + 2, y : y + 2, x : foo(y), x + y))"
      ],
      "text/x-maxima": [
       "bar(x,y):=block([],(x:x+2,y:y+2,x:foo(y),x+y))"
      ]
     },
     "execution_count": 2,
     "metadata": {},
     "output_type": "execute_result"
    }
   ],
   "source": [
    "foo(y) := block ([u:y^2],\n",
    "  u: u+3,\n",
    "  u: u^2,\n",
    "  u);\n",
    "\n",
    "bar(x,y) := block([],(\n",
    "  x: x+2,\n",
    "  y: y+2, \n",
    "  x: foo(y),\n",
    "  x+y));"
   ]
  },
  {
   "cell_type": "code",
   "execution_count": 4,
   "metadata": {},
   "outputs": [
    {
     "name": "stdout",
     "output_type": "stream",
     "text": [
      "Bkpt 0: "
     ]
    },
    {
     "data": {
      "text/latex": [
       "\\[\\tag{${\\it \\%o}_{5}$}365\\]"
      ],
      "text/plain": [
       "(%o5)                                 365"
      ],
      "text/x-maxima": [
       "365"
      ]
     },
     "execution_count": 4,
     "metadata": {},
     "output_type": "execute_result"
    }
   ],
   "source": [
    "bar(1,2);"
   ]
  },
  {
   "cell_type": "code",
   "execution_count": null,
   "metadata": {},
   "outputs": [],
   "source": []
  }
 ],
 "metadata": {
  "kernelspec": {
   "display_name": "Maxima",
   "language": "maxima",
   "name": "maxima"
  },
  "language_info": {
   "codemirror_mode": "maxima",
   "file_extension": ".mac",
   "mimetype": "text/x-maxima",
   "name": "maxima",
   "pygments_lexer": "maxima",
   "version": "5.45.1"
  }
 },
 "nbformat": 4,
 "nbformat_minor": 4
}
