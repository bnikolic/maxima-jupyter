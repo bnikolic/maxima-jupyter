{
 "cells": [
  {
   "cell_type": "code",
   "execution_count": 1,
   "metadata": {},
   "outputs": [
    {
     "data": {
      "text/latex": [
       "\\[\\tag{${\\it \\%o}_{1}$}\\mbox{ foobar.mac }\\]"
      ],
      "text/plain": [
       "(%o1)                             foobar.mac"
      ],
      "text/x-maxima": [
       "\"foobar.mac\""
      ]
     },
     "execution_count": 1,
     "metadata": {},
     "output_type": "execute_result"
    }
   ],
   "source": [
    "load(\"foobar.mac\");"
   ]
  },
  {
   "cell_type": "code",
   "execution_count": 2,
   "metadata": {},
   "outputs": [
    {
     "name": "stdout",
     "output_type": "stream",
     "text": [
      "\n",
      "Turning on debugging debugmode(true)\n",
      "\n",
      "Bkpt 0 for foo (in /home/yitzi/Documents/git/maxima-jupyter/examples/foobar.mac line 1) \n"
     ]
    }
   ],
   "source": [
    ":br foo"
   ]
  },
  {
   "cell_type": "code",
   "execution_count": 3,
   "metadata": {},
   "outputs": [
    {
     "name": "stdout",
     "output_type": "stream",
     "text": [
      "Bkpt 0: (foobar.mac line 1, in function $FOO)\n",
      "/home/yitzi/Documents/git/maxima-jupyter/examples/foobar.mac:1::\n"
     ]
    },
    {
     "name": "stdin",
     "output_type": "stream",
     "text": [
      "\n",
      "(dbm:1)  :bt\n"
     ]
    },
    {
     "name": "stdout",
     "output_type": "stream",
     "text": [
      "#0: foo(y=5) (foobar.mac line 1)\n",
      "#1: bar(x=2,y=3) (foobar.mac line 9)\n"
     ]
    },
    {
     "name": "stdin",
     "output_type": "stream",
     "text": [
      "\n",
      "(dbm:1)  :n\n"
     ]
    },
    {
     "name": "stdout",
     "output_type": "stream",
     "text": [
      "(foobar.mac line 2, in function $FOO)\n",
      "/home/yitzi/Documents/git/maxima-jupyter/examples/foobar.mac:2::\n"
     ]
    },
    {
     "name": "stdin",
     "output_type": "stream",
     "text": [
      "\n",
      "(dbm:1)  :n\n"
     ]
    },
    {
     "name": "stdout",
     "output_type": "stream",
     "text": [
      "(foobar.mac line 3, in function $FOO)\n",
      "/home/yitzi/Documents/git/maxima-jupyter/examples/foobar.mac:3::\n"
     ]
    },
    {
     "name": "stdin",
     "output_type": "stream",
     "text": [
      "\n",
      "(dbm:1)  u;\n"
     ]
    },
    {
     "data": {
      "text/plain": [
       "28"
      ]
     },
     "metadata": {},
     "output_type": "display_data"
    },
    {
     "name": "stdin",
     "output_type": "stream",
     "text": [
      "\n",
      "(dbm:1)  u:33;\n"
     ]
    },
    {
     "data": {
      "text/plain": [
       "33"
      ]
     },
     "metadata": {},
     "output_type": "display_data"
    },
    {
     "name": "stdin",
     "output_type": "stream",
     "text": [
      "\n",
      "(dbm:1)  :r\n"
     ]
    },
    {
     "data": {
      "text/latex": [
       "\\[\\tag{${\\it \\%o}_{3}$}1094\\]"
      ],
      "text/plain": [
       "(%o3)                                1094"
      ],
      "text/x-maxima": [
       "1094"
      ]
     },
     "execution_count": 3,
     "metadata": {},
     "output_type": "execute_result"
    }
   ],
   "source": [
    "bar(2,3);"
   ]
  },
  {
   "cell_type": "code",
   "execution_count": null,
   "metadata": {},
   "outputs": [],
   "source": []
  }
 ],
 "metadata": {
  "kernelspec": {
   "display_name": "Maxima",
   "language": "maxima",
   "name": "maxima"
  },
  "language_info": {
   "codemirror_mode": "maxima",
   "file_extension": ".mac",
   "mimetype": "text/x-maxima",
   "name": "maxima",
   "pygments_lexer": "maxima",
   "version": "5.44.0"
  }
 },
 "nbformat": 4,
 "nbformat_minor": 4
}
